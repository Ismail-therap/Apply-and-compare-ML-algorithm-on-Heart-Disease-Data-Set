{
 "cells": [
  {
   "cell_type": "markdown",
   "id": "cdbf095a",
   "metadata": {},
   "source": [
    "# Loading and Preparing data"
   ]
  },
  {
   "cell_type": "code",
   "execution_count": 55,
   "id": "85fe712b",
   "metadata": {},
   "outputs": [],
   "source": [
    "# Required packages\n",
    "import os\n",
    "import pandas as pd\n",
    "import matplotlib.pyplot as plt\n",
    "import seaborn as sns"
   ]
  },
  {
   "cell_type": "code",
   "execution_count": 56,
   "id": "47d35c80",
   "metadata": {},
   "outputs": [],
   "source": [
    "# Setting data directory\n",
    "os.chdir('C:/Users/stati/OneDrive/Desktop/Research_with_Nobel_vai/Results')"
   ]
  },
  {
   "cell_type": "code",
   "execution_count": 57,
   "id": "1ed729a4",
   "metadata": {},
   "outputs": [],
   "source": [
    "# Define the data types for each column\n",
    "\n",
    "\n",
    "\n",
    "my_columns = ['age', 'sex', 'cp', 'trestbps', 'chol', \n",
    "            'fbs', 'restecg', 'thalach', 'exang', \n",
    "            'oldpeak', 'slope', 'ca', 'thal', 'num']"
   ]
  },
  {
   "cell_type": "code",
   "execution_count": 58,
   "id": "467cde1d",
   "metadata": {},
   "outputs": [],
   "source": [
    "clev = pd.read_csv('https://archive.ics.uci.edu/ml/machine-learning-databases/heart-disease/processed.cleveland.data',header=None, names=my_columns)\n",
    "hung = pd.read_csv('https://archive.ics.uci.edu/ml/machine-learning-databases/heart-disease/processed.hungarian.data',header=None, names=my_columns)\n",
    "swit = pd.read_csv('https://archive.ics.uci.edu/ml/machine-learning-databases/heart-disease/processed.switzerland.data',header=None, names=my_columns)\n",
    "va = pd.read_csv('https://archive.ics.uci.edu/ml/machine-learning-databases/heart-disease/processed.va.data',header=None, names=my_columns)"
   ]
  },
  {
   "cell_type": "code",
   "execution_count": 59,
   "id": "14f73cca",
   "metadata": {},
   "outputs": [],
   "source": [
    "# Concatenate the data frames\n",
    "df = pd.concat([clev, hung, swit,va])"
   ]
  },
  {
   "cell_type": "code",
   "execution_count": 60,
   "id": "6fedd152",
   "metadata": {},
   "outputs": [
    {
     "name": "stdout",
     "output_type": "stream",
     "text": [
      "age :\n",
      " 54.0    51\n",
      "58.0    43\n",
      "55.0    41\n",
      "56.0    38\n",
      "57.0    38\n",
      "52.0    36\n",
      "62.0    35\n",
      "51.0    35\n",
      "59.0    35\n",
      "53.0    33\n",
      "60.0    32\n",
      "61.0    31\n",
      "48.0    31\n",
      "63.0    30\n",
      "50.0    25\n",
      "41.0    24\n",
      "46.0    24\n",
      "43.0    24\n",
      "64.0    22\n",
      "49.0    22\n",
      "65.0    21\n",
      "44.0    19\n",
      "47.0    19\n",
      "45.0    18\n",
      "42.0    18\n",
      "38.0    16\n",
      "67.0    15\n",
      "39.0    15\n",
      "69.0    13\n",
      "40.0    13\n",
      "66.0    13\n",
      "35.0    11\n",
      "37.0    11\n",
      "68.0    10\n",
      "34.0     7\n",
      "70.0     7\n",
      "74.0     7\n",
      "36.0     6\n",
      "32.0     5\n",
      "71.0     5\n",
      "72.0     4\n",
      "29.0     3\n",
      "75.0     3\n",
      "31.0     2\n",
      "33.0     2\n",
      "76.0     2\n",
      "77.0     2\n",
      "30.0     1\n",
      "28.0     1\n",
      "73.0     1\n",
      "Name: age, dtype: int64 \n",
      "\n",
      "sex :\n",
      " 1.0    726\n",
      "0.0    194\n",
      "Name: sex, dtype: int64 \n",
      "\n",
      "cp :\n",
      " 4.0    496\n",
      "3.0    204\n",
      "2.0    174\n",
      "1.0     46\n",
      "Name: cp, dtype: int64 \n",
      "\n",
      "trestbps :\n",
      " 120      94\n",
      "130      79\n",
      "140      70\n",
      "?        59\n",
      "110      40\n",
      "         ..\n",
      "108       1\n",
      "129.0     1\n",
      "113       1\n",
      "92        1\n",
      "127       1\n",
      "Name: trestbps, Length: 103, dtype: int64 \n",
      "\n",
      "chol :\n",
      " 0        123\n",
      "0         49\n",
      "?         30\n",
      "220        7\n",
      "216        7\n",
      "        ... \n",
      "187        1\n",
      "141.0      1\n",
      "328        1\n",
      "168        1\n",
      "385        1\n",
      "Name: chol, Length: 336, dtype: int64 \n",
      "\n",
      "fbs :\n",
      " 0      434\n",
      "0.0    258\n",
      "1       93\n",
      "?       90\n",
      "1.0     45\n",
      "Name: fbs, dtype: int64 \n",
      "\n",
      "restecg :\n",
      " 0      320\n",
      "0.0    231\n",
      "2.0    175\n",
      "1.0     97\n",
      "1       82\n",
      "2       13\n",
      "?        2\n",
      "Name: restecg, dtype: int64 \n",
      "\n",
      "thalach :\n",
      " ?        55\n",
      "150      36\n",
      "140      35\n",
      "120      32\n",
      "130      26\n",
      "         ..\n",
      "95.0      1\n",
      "179       1\n",
      "192.0     1\n",
      "127.0     1\n",
      "151       1\n",
      "Name: thalach, Length: 198, dtype: int64 \n",
      "\n",
      "exang :\n",
      " 0      324\n",
      "1      238\n",
      "0.0    204\n",
      "1.0     99\n",
      "?       55\n",
      "Name: exang, dtype: int64 \n",
      "\n",
      "oldpeak :\n",
      " 0.0     288\n",
      "0        82\n",
      "?        62\n",
      "1.0      55\n",
      "2.0      40\n",
      "       ... \n",
      "-.1       1\n",
      "4.4       1\n",
      "5.0       1\n",
      "-1.5      1\n",
      "0.8       1\n",
      "Name: oldpeak, Length: 82, dtype: int64 \n",
      "\n",
      "slope :\n",
      " ?      309\n",
      "2      205\n",
      "1.0    142\n",
      "2.0    140\n",
      "1       61\n",
      "3       42\n",
      "3.0     21\n",
      "Name: slope, dtype: int64 \n",
      "\n",
      "ca :\n",
      " ?      611\n",
      "0.0    176\n",
      "1.0     65\n",
      "2.0     38\n",
      "3.0     20\n",
      "0        5\n",
      "2        3\n",
      "1        2\n",
      "Name: ca, dtype: int64 \n",
      "\n",
      "thal :\n",
      " ?      486\n",
      "3.0    166\n",
      "7.0    117\n",
      "7       75\n",
      "3       30\n",
      "6       28\n",
      "6.0     18\n",
      "Name: thal, dtype: int64 \n",
      "\n",
      "num :\n",
      " 0    411\n",
      "1    265\n",
      "2    109\n",
      "3    107\n",
      "4     28\n",
      "Name: num, dtype: int64 \n",
      "\n"
     ]
    }
   ],
   "source": [
    "# Print value counts for each column to explore any unusual data points\n",
    "for column in df.columns:\n",
    "    print(column, \":\\n\", df[column].value_counts(), \"\\n\")"
   ]
  },
  {
   "cell_type": "code",
   "execution_count": 61,
   "id": "06ae875b",
   "metadata": {},
   "outputs": [],
   "source": [
    "df.replace('?', float('NaN'), inplace=True)"
   ]
  },
  {
   "cell_type": "code",
   "execution_count": 62,
   "id": "81a4ab2b",
   "metadata": {},
   "outputs": [],
   "source": [
    "# Re-declare data types for appropriate columns\n",
    "df['age'] = df['age'].astype('int')\n",
    "df['sex'] = df['sex'].astype('category')\n",
    "df['cp'] = df['cp'].astype('category')\n",
    "df['trestbps'] = df['trestbps'].astype('float')\n",
    "df['chol'] = df['chol'].astype('float')\n",
    "df['fbs'] = df['fbs'].astype('category')\n",
    "df['restecg'] = df['restecg'].astype('category')\n",
    "df['thalach'] = df['thalach'].astype('float')\n",
    "df['exang'] = df['exang'].astype('category')\n",
    "df['oldpeak'] = df['oldpeak'].astype('float')\n",
    "df['slope'] = df['slope'].astype('category')\n",
    "df['ca'] = df['ca'].astype('float')\n",
    "df['thal'] = df['thal'].astype('float')\n",
    "df['num'] = df['num'].astype('category')\n"
   ]
  },
  {
   "cell_type": "markdown",
   "id": "da562e06",
   "metadata": {},
   "source": [
    "# Exploratory analysis:"
   ]
  },
  {
   "cell_type": "code",
   "execution_count": 63,
   "id": "7c96fe75",
   "metadata": {},
   "outputs": [
    {
     "name": "stdout",
     "output_type": "stream",
     "text": [
      "   age  sex   cp  trestbps   chol  fbs restecg  thalach exang  oldpeak slope  \\\n",
      "0   63  1.0  1.0     145.0  233.0  1.0     2.0    150.0   0.0      2.3   3.0   \n",
      "1   67  1.0  4.0     160.0  286.0  0.0     2.0    108.0   1.0      1.5   2.0   \n",
      "2   67  1.0  4.0     120.0  229.0  0.0     2.0    129.0   1.0      2.6   2.0   \n",
      "3   37  1.0  3.0     130.0  250.0  0.0     0.0    187.0   0.0      3.5   3.0   \n",
      "4   41  0.0  2.0     130.0  204.0  0.0     2.0    172.0   0.0      1.4   1.0   \n",
      "\n",
      "    ca  thal num  \n",
      "0  0.0   6.0   0  \n",
      "1  3.0   3.0   2  \n",
      "2  2.0   7.0   1  \n",
      "3  0.0   3.0   0  \n",
      "4  0.0   3.0   0  \n"
     ]
    }
   ],
   "source": [
    "# Check the first few rows of the DataFrame\n",
    "print(df.head())"
   ]
  },
  {
   "cell_type": "code",
   "execution_count": 64,
   "id": "e46f66a4",
   "metadata": {},
   "outputs": [
    {
     "name": "stdout",
     "output_type": "stream",
     "text": [
      "(920, 14)\n"
     ]
    }
   ],
   "source": [
    "# Check the shape of the DataFrame\n",
    "print(df.shape)"
   ]
  },
  {
   "cell_type": "code",
   "execution_count": 65,
   "id": "cd4716e3",
   "metadata": {},
   "outputs": [
    {
     "name": "stdout",
     "output_type": "stream",
     "text": [
      "age            int32\n",
      "sex         category\n",
      "cp          category\n",
      "trestbps     float64\n",
      "chol         float64\n",
      "fbs         category\n",
      "restecg     category\n",
      "thalach      float64\n",
      "exang       category\n",
      "oldpeak      float64\n",
      "slope       category\n",
      "ca           float64\n",
      "thal         float64\n",
      "num         category\n",
      "dtype: object\n"
     ]
    }
   ],
   "source": [
    "# Check the data types of the columns\n",
    "print(df.dtypes)"
   ]
  },
  {
   "cell_type": "code",
   "execution_count": 66,
   "id": "3dd225da",
   "metadata": {},
   "outputs": [
    {
     "name": "stdout",
     "output_type": "stream",
     "text": [
      "              age    trestbps        chol     thalach     oldpeak          ca  \\\n",
      "count  920.000000  861.000000  890.000000  865.000000  858.000000  309.000000   \n",
      "mean    53.510870  132.132404  199.130337  137.545665    0.878788    0.676375   \n",
      "std      9.424685   19.066070  110.780810   25.926276    1.091226    0.935653   \n",
      "min     28.000000    0.000000    0.000000   60.000000   -2.600000    0.000000   \n",
      "25%     47.000000  120.000000  175.000000  120.000000    0.000000    0.000000   \n",
      "50%     54.000000  130.000000  223.000000  140.000000    0.500000    0.000000   \n",
      "75%     60.000000  140.000000  268.000000  157.000000    1.500000    1.000000   \n",
      "max     77.000000  200.000000  603.000000  202.000000    6.200000    3.000000   \n",
      "\n",
      "             thal  \n",
      "count  434.000000  \n",
      "mean     5.087558  \n",
      "std      1.919075  \n",
      "min      3.000000  \n",
      "25%      3.000000  \n",
      "50%      6.000000  \n",
      "75%      7.000000  \n",
      "max      7.000000  \n"
     ]
    }
   ],
   "source": [
    "# Check the summary statistics of the numerical columns\n",
    "print(df.describe())"
   ]
  },
  {
   "cell_type": "code",
   "execution_count": 67,
   "id": "0a40e69f",
   "metadata": {},
   "outputs": [
    {
     "data": {
      "image/png": "[encoded data removed]",
      "text/plain": [
       "<Figure size 432x288 with 1 Axes>"
      ]
     },
     "metadata": {
      "needs_background": "light"
     },
     "output_type": "display_data"
    }
   ],
   "source": [
    "# Check the distribution of the target variable\n",
    "sns.countplot(x='num', data=df)\n",
    "plt.show()\n"
   ]
  },
  {
   "cell_type": "code",
   "execution_count": 68,
   "id": "cb0cdc2b",
   "metadata": {},
   "outputs": [],
   "source": [
    "# Number of missing value per columns"
   ]
  },
  {
   "cell_type": "code",
   "execution_count": 69,
   "id": "7c372c55",
   "metadata": {},
   "outputs": [
    {
     "name": "stdout",
     "output_type": "stream",
     "text": [
      "age           0\n",
      "sex           0\n",
      "cp            0\n",
      "trestbps     59\n",
      "chol         30\n",
      "fbs          90\n",
      "restecg       2\n",
      "thalach      55\n",
      "exang        55\n",
      "oldpeak      62\n",
      "slope       309\n",
      "ca          611\n",
      "thal        486\n",
      "num           0\n",
      "dtype: int64\n"
     ]
    }
   ],
   "source": [
    "# Count the number of missing values per column\n",
    "missing_values_count = df.isna().sum()\n",
    "\n",
    "# Print the result\n",
    "print(missing_values_count)"
   ]
  },
  {
   "cell_type": "code",
   "execution_count": 70,
   "id": "84b548c7",
   "metadata": {},
   "outputs": [],
   "source": [
    "# Remove missing entries from DataFrame\n",
    "df = df.dropna()"
   ]
  },
  {
   "cell_type": "code",
   "execution_count": 71,
   "id": "8050fd1b",
   "metadata": {},
   "outputs": [
    {
     "name": "stdout",
     "output_type": "stream",
     "text": [
      "(299, 14)\n"
     ]
    }
   ],
   "source": [
    "print(df.shape)"
   ]
  },
  {
   "cell_type": "code",
   "execution_count": 72,
   "id": "670e045b",
   "metadata": {},
   "outputs": [
    {
     "data": {
      "text/html": [
       "<div>\n",
       "<style scoped>\n",
       "    .dataframe tbody tr th:only-of-type {\n",
       "        vertical-align: middle;\n",
       "    }\n",
       "\n",
       "    .dataframe tbody tr th {\n",
       "        vertical-align: top;\n",
       "    }\n",
       "\n",
       "    .dataframe thead th {\n",
       "        text-align: right;\n",
       "    }\n",
       "</style>\n",
       "<table border=\"1\" class=\"dataframe\">\n",
       "  <thead>\n",
       "    <tr style=\"text-align: right;\">\n",
       "      <th></th>\n",
       "      <th>age</th>\n",
       "      <th>sex</th>\n",
       "      <th>cp</th>\n",
       "      <th>trestbps</th>\n",
       "      <th>chol</th>\n",
       "      <th>fbs</th>\n",
       "      <th>restecg</th>\n",
       "      <th>thalach</th>\n",
       "      <th>exang</th>\n",
       "      <th>oldpeak</th>\n",
       "      <th>slope</th>\n",
       "      <th>ca</th>\n",
       "      <th>thal</th>\n",
       "      <th>num</th>\n",
       "    </tr>\n",
       "  </thead>\n",
       "  <tbody>\n",
       "    <tr>\n",
       "      <th>0</th>\n",
       "      <td>63</td>\n",
       "      <td>1.0</td>\n",
       "      <td>1.0</td>\n",
       "      <td>145.0</td>\n",
       "      <td>233.0</td>\n",
       "      <td>1.0</td>\n",
       "      <td>2.0</td>\n",
       "      <td>150.0</td>\n",
       "      <td>0.0</td>\n",
       "      <td>2.3</td>\n",
       "      <td>3.0</td>\n",
       "      <td>0.0</td>\n",
       "      <td>6.0</td>\n",
       "      <td>0</td>\n",
       "    </tr>\n",
       "    <tr>\n",
       "      <th>1</th>\n",
       "      <td>67</td>\n",
       "      <td>1.0</td>\n",
       "      <td>4.0</td>\n",
       "      <td>160.0</td>\n",
       "      <td>286.0</td>\n",
       "      <td>0.0</td>\n",
       "      <td>2.0</td>\n",
       "      <td>108.0</td>\n",
       "      <td>1.0</td>\n",
       "      <td>1.5</td>\n",
       "      <td>2.0</td>\n",
       "      <td>3.0</td>\n",
       "      <td>3.0</td>\n",
       "      <td>2</td>\n",
       "    </tr>\n",
       "    <tr>\n",
       "      <th>2</th>\n",
       "      <td>67</td>\n",
       "      <td>1.0</td>\n",
       "      <td>4.0</td>\n",
       "      <td>120.0</td>\n",
       "      <td>229.0</td>\n",
       "      <td>0.0</td>\n",
       "      <td>2.0</td>\n",
       "      <td>129.0</td>\n",
       "      <td>1.0</td>\n",
       "      <td>2.6</td>\n",
       "      <td>2.0</td>\n",
       "      <td>2.0</td>\n",
       "      <td>7.0</td>\n",
       "      <td>1</td>\n",
       "    </tr>\n",
       "    <tr>\n",
       "      <th>3</th>\n",
       "      <td>37</td>\n",
       "      <td>1.0</td>\n",
       "      <td>3.0</td>\n",
       "      <td>130.0</td>\n",
       "      <td>250.0</td>\n",
       "      <td>0.0</td>\n",
       "      <td>0.0</td>\n",
       "      <td>187.0</td>\n",
       "      <td>0.0</td>\n",
       "      <td>3.5</td>\n",
       "      <td>3.0</td>\n",
       "      <td>0.0</td>\n",
       "      <td>3.0</td>\n",
       "      <td>0</td>\n",
       "    </tr>\n",
       "    <tr>\n",
       "      <th>4</th>\n",
       "      <td>41</td>\n",
       "      <td>0.0</td>\n",
       "      <td>2.0</td>\n",
       "      <td>130.0</td>\n",
       "      <td>204.0</td>\n",
       "      <td>0.0</td>\n",
       "      <td>2.0</td>\n",
       "      <td>172.0</td>\n",
       "      <td>0.0</td>\n",
       "      <td>1.4</td>\n",
       "      <td>1.0</td>\n",
       "      <td>0.0</td>\n",
       "      <td>3.0</td>\n",
       "      <td>0</td>\n",
       "    </tr>\n",
       "  </tbody>\n",
       "</table>\n",
       "</div>"
      ],
      "text/plain": [
       "   age  sex   cp  trestbps   chol  fbs restecg  thalach exang  oldpeak slope  \\\n",
       "0   63  1.0  1.0     145.0  233.0  1.0     2.0    150.0   0.0      2.3   3.0   \n",
       "1   67  1.0  4.0     160.0  286.0  0.0     2.0    108.0   1.0      1.5   2.0   \n",
       "2   67  1.0  4.0     120.0  229.0  0.0     2.0    129.0   1.0      2.6   2.0   \n",
       "3   37  1.0  3.0     130.0  250.0  0.0     0.0    187.0   0.0      3.5   3.0   \n",
       "4   41  0.0  2.0     130.0  204.0  0.0     2.0    172.0   0.0      1.4   1.0   \n",
       "\n",
       "    ca  thal num  \n",
       "0  0.0   6.0   0  \n",
       "1  3.0   3.0   2  \n",
       "2  2.0   7.0   1  \n",
       "3  0.0   3.0   0  \n",
       "4  0.0   3.0   0  "
      ]
     },
     "execution_count": 72,
     "metadata": {},
     "output_type": "execute_result"
    }
   ],
   "source": [
    "df.head()"
   ]
  },
  {
   "cell_type": "markdown",
   "id": "b6d51587",
   "metadata": {},
   "source": [
    "So, we clened the data set and found 299 complete sample to fit our Machine learing models. As the categories are unbalance then we can use weighted multinomial classification models. We would try the following three supervised models:\n",
    "\n",
    "1. Logistic Regression [Simplest one but many cases most effect and easy to interpret.]\n",
    "2. Random forest [Tree based algorithm]\n",
    "3. XGBoost [Effective in may cases]\n",
    "4. Neural Network (Basic)\n",
    "5. CNN [Not yet sure]"
   ]
  },
  {
   "cell_type": "markdown",
   "id": "5537e7b8",
   "metadata": {},
   "source": [
    "# ML modeling:"
   ]
  },
  {
   "cell_type": "markdown",
   "id": "4b546c4d",
   "metadata": {},
   "source": [
    "In progress ... "
   ]
  },
  {
   "cell_type": "code",
   "execution_count": null,
   "id": "68080f57",
   "metadata": {},
   "outputs": [],
   "source": []
  }
 ],
 "metadata": {
  "kernelspec": {
   "display_name": "Python 3 (ipykernel)",
   "language": "python",
   "name": "python3"
  },
  "language_info": {
   "codemirror_mode": {
    "name": "ipython",
    "version": 3
   },
   "file_extension": ".py",
   "mimetype": "text/x-python",
   "name": "python",
   "nbconvert_exporter": "python",
   "pygments_lexer": "ipython3",
   "version": "3.9.12"
  }
 },
 "nbformat": 4,
 "nbformat_minor": 5
}
